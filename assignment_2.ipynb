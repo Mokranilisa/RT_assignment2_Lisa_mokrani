{
 "cells": [
  {
   "cell_type": "code",
   "execution_count": 1,
   "id": "67d5b610",
   "metadata": {
    "ExecuteTime": {
     "end_time": "2025-05-07T15:46:42.800715Z",
     "start_time": "2025-05-07T15:46:41.668609Z"
    }
   },
   "outputs": [],
   "source": [
    "%matplotlib widget\n",
    "# Import libraries\n",
    "import rospy\n",
    "import actionlib\n",
    "from assignment_2_2024.msg import PlanningAction, PlanningGoal, vel_pos\n",
    "from sensor_msgs.msg import LaserScan\n",
    "import ipywidgets as widgets\n",
    "from IPython.display import display, clear_output\n",
    "import matplotlib.pyplot as plt\n",
    "from matplotlib.animation import FuncAnimation\n",
    "from actionlib_msgs.msg import GoalStatusArray\n",
    "import numpy as np"
   ]
  },
  {
   "cell_type": "code",
   "execution_count": 2,
   "id": "43399e92",
   "metadata": {
    "ExecuteTime": {
     "end_time": "2025-05-07T15:46:43.225938Z",
     "start_time": "2025-05-07T15:46:42.804812Z"
    }
   },
   "outputs": [
    {
     "data": {
      "text/plain": [
       "True"
      ]
     },
     "execution_count": 2,
     "metadata": {},
     "output_type": "execute_result"
    }
   ],
   "source": [
    "# Initialize ROS node\n",
    "rospy.init_node(\"notebook_controller\", anonymous=True)\n",
    "\n",
    "# Action client setup\n",
    "client = actionlib.SimpleActionClient('/reaching_goal', PlanningAction)\n",
    "client.wait_for_server()"
   ]
  },
  {
   "cell_type": "code",
   "execution_count": 3,
   "id": "326cd699",
   "metadata": {
    "ExecuteTime": {
     "end_time": "2025-05-07T15:46:43.388421Z",
     "start_time": "2025-05-07T15:46:43.241736Z"
    }
   },
   "outputs": [
    {
     "data": {
      "application/vnd.jupyter.widget-view+json": {
       "model_id": "379fee91b885471b9af1b69d9d1a4acd",
       "version_major": 2,
       "version_minor": 0
      },
      "text/plain": [
       "HBox(children=(FloatText(value=0.0, description='X:'), FloatText(value=0.0, description='Y:')))"
      ]
     },
     "metadata": {},
     "output_type": "display_data"
    },
    {
     "data": {
      "application/vnd.jupyter.widget-view+json": {
       "model_id": "daeadc62c0704667b294492bb31b0c58",
       "version_major": 2,
       "version_minor": 0
      },
      "text/plain": [
       "HBox(children=(Button(button_style='success', description='Send Goal', style=ButtonStyle()), Button(button_sty…"
      ]
     },
     "metadata": {},
     "output_type": "display_data"
    },
    {
     "data": {
      "application/vnd.jupyter.widget-view+json": {
       "model_id": "df96e47233d345c99208eca1637a2ec4",
       "version_major": 2,
       "version_minor": 0
      },
      "text/plain": [
       "Output()"
      ]
     },
     "metadata": {},
     "output_type": "display_data"
    },
    {
     "name": "stdout",
     "output_type": "stream",
     "text": [
      "Received position: 2.1008739471435547 3.1984429359436035\n",
      "Received position: 2.1006369590759277 3.198073387145996\n"
     ]
    }
   ],
   "source": [
    "# Widgets for target input and buttons\n",
    "x_input = widgets.FloatText(description='X:')\n",
    "y_input = widgets.FloatText(description='Y:')\n",
    "send_button = widgets.Button(description='Send Goal', button_style='success')\n",
    "cancel_button = widgets.Button(description='Cancel Goal', button_style='danger')\n",
    "output = widgets.Output()\n",
    "\n",
    "# Display inputs and buttons\n",
    "display(widgets.HBox([x_input, y_input]))\n",
    "display(widgets.HBox([send_button, cancel_button]))\n",
    "display(output)"
   ]
  },
  {
   "cell_type": "code",
   "execution_count": 4,
   "id": "6640b554",
   "metadata": {
    "ExecuteTime": {
     "end_time": "2025-05-07T15:46:43.401893Z",
     "start_time": "2025-05-07T15:46:43.392970Z"
    }
   },
   "outputs": [],
   "source": [
    "# Define button callbacks\n",
    "def send_goal(b):\n",
    "    goal = PlanningGoal()\n",
    "    goal.target_pose.pose.position.x = x_input.value\n",
    "    goal.target_pose.pose.position.y = y_input.value\n",
    "    client.send_goal(goal)\n",
    "    with output:\n",
    "        clear_output()\n",
    "        print(f\"Goal sent: x={x_input.value}, y={y_input.value}\")\n",
    "\n",
    "def cancel_goal(b):\n",
    "    client.cancel_goal()\n",
    "    with output:\n",
    "        clear_output()\n",
    "        print(\"Goal canceled.\")\n",
    "\n",
    "send_button.on_click(send_goal)\n",
    "cancel_button.on_click(cancel_goal)"
   ]
  },
  {
   "cell_type": "code",
   "execution_count": 5,
   "id": "a2aecccc",
   "metadata": {
    "ExecuteTime": {
     "end_time": "2025-05-07T15:46:43.457674Z",
     "start_time": "2025-05-07T15:46:43.409858Z"
    },
    "scrolled": true
   },
   "outputs": [
    {
     "data": {
      "application/vnd.jupyter.widget-view+json": {
       "model_id": "f6b47ee11c0040fb9c79a81261daf9a8",
       "version_major": 2,
       "version_minor": 0
      },
      "text/plain": [
       "Label(value='Position: x=0.00, y=0.00')"
      ]
     },
     "metadata": {},
     "output_type": "display_data"
    },
    {
     "data": {
      "application/vnd.jupyter.widget-view+json": {
       "model_id": "52c51ad0d93b433d937e47b6e78f3af7",
       "version_major": 2,
       "version_minor": 0
      },
      "text/plain": [
       "Label(value='Closest Obstacle: -- m')"
      ]
     },
     "metadata": {},
     "output_type": "display_data"
    }
   ],
   "source": [
    "# Robot state display widgets\n",
    "position_label = widgets.Label(value=\"Position: x=0.00, y=0.00\")\n",
    "obstacle_label = widgets.Label(value=\"Closest Obstacle: -- m\")\n",
    "display(position_label)\n",
    "display(obstacle_label)"
   ]
  },
  {
   "cell_type": "code",
   "execution_count": 6,
   "id": "ff70b883",
   "metadata": {
    "ExecuteTime": {
     "end_time": "2025-05-07T15:46:43.578145Z",
     "start_time": "2025-05-07T15:46:43.462377Z"
    }
   },
   "outputs": [
    {
     "data": {
      "application/vnd.jupyter.widget-view+json": {
       "model_id": "bc463c5ad1c9436d987230d8c3f4e910",
       "version_major": 2,
       "version_minor": 0
      },
      "text/plain": [
       "Canvas(toolbar=Toolbar(toolitems=[('Home', 'Reset original view', 'home', 'home'), ('Back', 'Back to previous …"
      ]
     },
     "metadata": {},
     "output_type": "display_data"
    }
   ],
   "source": [
    "fig, ax = plt.subplots()\n",
    "line, = ax.plot([], [], 'b-')  # Line object to update\n",
    "\n",
    "ax.set_xlim(0, 12)\n",
    "ax.set_ylim(0, 12)\n",
    "ax.set_title(\"Robot Trajectory\")\n",
    "ax.set_xlabel(\"x\")\n",
    "ax.set_ylabel(\"y\")\n",
    "\n",
    "x_history = []\n",
    "y_history = []\n",
    "\n",
    "def init_plot():\n",
    "    line.set_data([], [])\n",
    "    return line,\n",
    "\n",
    "def update_plot(frame):\n",
    "    line.set_data(x_history, y_history)\n",
    "    return line,\n"
   ]
  },
  {
   "cell_type": "code",
   "execution_count": 7,
   "id": "4c2b0c96",
   "metadata": {
    "ExecuteTime": {
     "end_time": "2025-05-07T15:46:43.700109Z",
     "start_time": "2025-05-07T15:46:43.582810Z"
    }
   },
   "outputs": [
    {
     "data": {
      "application/vnd.jupyter.widget-view+json": {
       "model_id": "97976b0cbc434bb49164ca0dcdc70c0f",
       "version_major": 2,
       "version_minor": 0
      },
      "text/plain": [
       "Canvas(toolbar=Toolbar(toolitems=[('Home', 'Reset original view', 'home', 'home'), ('Back', 'Back to previous …"
      ]
     },
     "metadata": {},
     "output_type": "display_data"
    },
    {
     "data": {
      "text/plain": [
       "Text(0.5, 1.0, 'Goal Status')"
      ]
     },
     "execution_count": 7,
     "metadata": {},
     "output_type": "execute_result"
    }
   ],
   "source": [
    "# Counters for goal results\n",
    "reached_count = 0\n",
    "not_reached_count = 0\n",
    "\n",
    "# Create another figure for the bar chart\n",
    "fig2, ax2 = plt.subplots()\n",
    "bars = ax2.bar([\"Reached\", \"Not Reached\"], [reached_count, not_reached_count], color=[\"green\", \"red\"])\n",
    "ax2.set_ylim(0, 10)\n",
    "ax2.set_title(\"Goal Status\")\n"
   ]
  },
  {
   "cell_type": "code",
   "execution_count": 8,
   "id": "1c87c53e",
   "metadata": {
    "ExecuteTime": {
     "end_time": "2025-05-07T15:46:43.741852Z",
     "start_time": "2025-05-07T15:46:43.716808Z"
    }
   },
   "outputs": [],
   "source": [
    "# Subscriber callbacks\n",
    "def position_callback(msg):\n",
    "    print(\"Received position:\", msg.cor_x, msg.cor_y)  # Debugging\n",
    "    \n",
    "    position_label.value = (\n",
    "        f\"Position: x={msg.cor_x:.2f}, y={msg.cor_y:.2f}, \"\n",
    "        f\"vx={msg.vel_x:.2f}, vy={msg.vel_y:.2f}\"\n",
    "    )\n",
    "     # Append data\n",
    "    x_history.append(msg.cor_x)\n",
    "    y_history.append(msg.cor_y)\n",
    "\n",
    "    # Update plot\n",
    "    line.set_data(x_history, y_history)\n",
    "    ax.relim()\n",
    "    ax.autoscale_view()\n",
    "\n",
    "    fig.canvas.draw_idle() \n",
    "def laser_callback(msg):\n",
    "    valid = [r for r in msg.ranges if not np.isinf(r) and not np.isnan(r)]\n",
    "    if valid:\n",
    "        obstacle_label.value = f\"Closest Obstacle: {min(valid):.2f} m\"\n",
    "    else:\n",
    "        obstacle_label.value = \"Closest Obstacle: No valid data\"\n",
    "        \n",
    "def status_callback(msg):\n",
    "    global reached_count, not_reached_count\n",
    "    if not msg.status_list:\n",
    "        return\n",
    "\n",
    "    latest_status = msg.status_list[-1].status\n",
    "\n",
    "    if latest_status == 3:  # SUCCEEDED\n",
    "        reached_count += 1\n",
    "    elif latest_status in [2, 4]:  # CANCELED or ABORTED\n",
    "        not_reached_count += 1\n",
    "    else:\n",
    "        return  # Still processing\n",
    "\n",
    "    # Update the bar chart\n",
    "    bars[0].set_height(reached_count)\n",
    "    bars[1].set_height(not_reached_count)\n",
    "    ax2.set_ylim(0, max(reached_count, not_reached_count, 1) + 1)\n",
    "    fig2.canvas.draw_idle()\n"
   ]
  },
  {
   "cell_type": "code",
   "execution_count": 9,
   "id": "3cc9b49f",
   "metadata": {
    "ExecuteTime": {
     "end_time": "2025-05-07T15:46:43.837881Z",
     "start_time": "2025-05-07T15:46:43.752612Z"
    }
   },
   "outputs": [
    {
     "data": {
      "text/plain": [
       "<rospy.topics.Subscriber at 0x7f9fa07bd1f0>"
      ]
     },
     "execution_count": 9,
     "metadata": {},
     "output_type": "execute_result"
    },
    {
     "name": "stdout",
     "output_type": "stream",
     "text": [
      "Received position: 2.1071529388427734 3.2081096172332764\n"
     ]
    }
   ],
   "source": [
    "rospy.Subscriber(\"/vel_pos\", vel_pos, position_callback)\n",
    "rospy.Subscriber(\"/scan\", LaserScan, laser_callback)\n",
    "rospy.Subscriber(\"/reaching_goal/status\", GoalStatusArray, status_callback)"
   ]
  },
  {
   "cell_type": "code",
   "execution_count": 10,
   "id": "dceb315a",
   "metadata": {
    "ExecuteTime": {
     "end_time": "2025-05-07T15:46:43.851975Z",
     "start_time": "2025-05-07T15:46:43.840888Z"
    }
   },
   "outputs": [],
   "source": [
    "ani = FuncAnimation(fig, update_plot, init_func=init_plot, blit=True, interval=200)\n"
   ]
  }
 ],
 "metadata": {
  "kernelspec": {
   "display_name": "Python 3 (ipykernel)",
   "language": "python",
   "name": "python3"
  },
  "language_info": {
   "codemirror_mode": {
    "name": "ipython",
    "version": 3
   },
   "file_extension": ".py",
   "mimetype": "text/x-python",
   "name": "python",
   "nbconvert_exporter": "python",
   "pygments_lexer": "ipython3",
   "version": "3.8.5"
  },
  "toc": {
   "base_numbering": 1,
   "nav_menu": {},
   "number_sections": true,
   "sideBar": true,
   "skip_h1_title": false,
   "title_cell": "Table of Contents",
   "title_sidebar": "Contents",
   "toc_cell": false,
   "toc_position": {},
   "toc_section_display": true,
   "toc_window_display": false
  },
  "varInspector": {
   "cols": {
    "lenName": 16,
    "lenType": 16,
    "lenVar": 40
   },
   "kernels_config": {
    "python": {
     "delete_cmd_postfix": "",
     "delete_cmd_prefix": "del ",
     "library": "var_list.py",
     "varRefreshCmd": "print(var_dic_list())"
    },
    "r": {
     "delete_cmd_postfix": ") ",
     "delete_cmd_prefix": "rm(",
     "library": "var_list.r",
     "varRefreshCmd": "cat(var_dic_list()) "
    }
   },
   "types_to_exclude": [
    "module",
    "function",
    "builtin_function_or_method",
    "instance",
    "_Feature"
   ],
   "window_display": false
  }
 },
 "nbformat": 4,
 "nbformat_minor": 5
}
